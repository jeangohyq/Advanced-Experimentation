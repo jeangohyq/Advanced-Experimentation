{
 "cells": [
  {
   "cell_type": "code",
   "execution_count": 14,
   "metadata": {},
   "outputs": [],
   "source": [
    "import pandas as pd\n",
    "import numpy as np\n",
    "import matplotlib.pyplot as plt\n",
    "import scipy.stats as stats\n",
    "%matplotlib inline"
   ]
  },
  {
   "cell_type": "code",
   "execution_count": 15,
   "metadata": {},
   "outputs": [],
   "source": [
    "df = pd.read_csv('european_social_survey.csv')"
   ]
  },
  {
   "cell_type": "code",
   "execution_count": 16,
   "metadata": {},
   "outputs": [
    {
     "data": {
      "text/plain": [
       "array(['CH', 'CZ', 'DE', 'ES', 'NO', 'SE'], dtype=object)"
      ]
     },
     "execution_count": 16,
     "metadata": {},
     "output_type": "execute_result"
    }
   ],
   "source": [
    "df['cntry'].unique()"
   ]
  },
  {
   "cell_type": "markdown",
   "metadata": {},
   "source": [
    "Did people become less trusting from 2012 to 2014? Compute results for each country in the sample."
   ]
  },
  {
   "cell_type": "code",
   "execution_count": 18,
   "metadata": {},
   "outputs": [
    {
     "name": "stdout",
     "output_type": "stream",
     "text": [
      "  cntry  idno  year  tvtot  ppltrst  pplfair  pplhlp  happy  sclmeet  sclact  \\\n",
      "0    CH     5     6    3.0      3.0     10.0     5.0    8.0      5.0     4.0   \n",
      "1    CH    25     6    6.0      5.0      7.0     5.0    9.0      3.0     2.0   \n",
      "2    CH    26     6    1.0      8.0      8.0     8.0    7.0      6.0     3.0   \n",
      "3    CH    28     6    4.0      6.0      6.0     7.0   10.0      6.0     2.0   \n",
      "4    CH    29     6    5.0      6.0      7.0     5.0    8.0      7.0     2.0   \n",
      "\n",
      "   gndr  agea  partner  \n",
      "0   2.0  60.0      1.0  \n",
      "1   2.0  59.0      1.0  \n",
      "2   1.0  24.0      2.0  \n",
      "3   2.0  64.0      1.0  \n",
      "4   2.0  55.0      1.0  \n"
     ]
    }
   ],
   "source": [
    "print(df.head())"
   ]
  },
  {
   "cell_type": "code",
   "execution_count": 25,
   "metadata": {},
   "outputs": [],
   "source": [
    "stats2012 = df[df.year ==6][['cntry','ppltrst']].groupby('cntry').mean()\n",
    "stats2014 = df[df.year ==7][['cntry','ppltrst']].groupby('cntry').mean()"
   ]
  },
  {
   "cell_type": "code",
   "execution_count": 28,
   "metadata": {},
   "outputs": [
    {
     "name": "stdout",
     "output_type": "stream",
     "text": [
      "        ppltrst\n",
      "cntry          \n",
      "CH     5.677878\n",
      "CZ     4.362519\n",
      "DE     5.214286\n",
      "ES     5.114592\n",
      "NO     6.649315\n",
      "SE     6.058499\n"
     ]
    }
   ],
   "source": [
    "print(stats2012)"
   ]
  },
  {
   "cell_type": "code",
   "execution_count": 29,
   "metadata": {},
   "outputs": [
    {
     "name": "stdout",
     "output_type": "stream",
     "text": [
      "        ppltrst\n",
      "cntry          \n",
      "CH     5.751617\n",
      "CZ     4.424658\n",
      "DE     5.357143\n",
      "ES     4.895128\n",
      "NO     6.598630\n",
      "SE     6.257709\n"
     ]
    }
   ],
   "source": [
    "print(stats2014)"
   ]
  },
  {
   "cell_type": "markdown",
   "metadata": {},
   "source": [
    "CH, CZ, DE, SE became more trusting from 2012-2014. People became less trusting in ES and NO."
   ]
  },
  {
   "cell_type": "code",
   "execution_count": 30,
   "metadata": {},
   "outputs": [],
   "source": [
    "df = df.dropna(axis=0)"
   ]
  },
  {
   "cell_type": "code",
   "execution_count": 31,
   "metadata": {},
   "outputs": [
    {
     "name": "stdout",
     "output_type": "stream",
     "text": [
      "Ttest_indResult(statistic=-0.71569747922178162, pvalue=0.47429160029094908)\n",
      "Ttest_indResult(statistic=0.34075433231518504, pvalue=0.73334793159099765)\n",
      "Ttest_indResult(statistic=-0.34662131701252841, pvalue=0.73177642737857318)\n",
      "Ttest_indResult(statistic=2.1000674443244907, pvalue=0.035832041935213631)\n",
      "Ttest_indResult(statistic=0.51192241811452277, pvalue=0.60878502181319782)\n",
      "Ttest_indResult(statistic=-2.0268698056063146, pvalue=0.042829363452229798)\n"
     ]
    }
   ],
   "source": [
    "for country in df.cntry.unique():\n",
    "    country_data = df[df.cntry == country]\n",
    "    print(stats.ttest_ind(country_data[country_data.year == 6].ppltrst,\n",
    "                          country_data[country_data.year == 7].ppltrst))"
   ]
  },
  {
   "cell_type": "code",
   "execution_count": null,
   "metadata": {},
   "outputs": [],
   "source": []
  },
  {
   "cell_type": "markdown",
   "metadata": {},
   "source": [
    "Did people become happier from 2012 to 2014? Compute results for each country in the sample."
   ]
  },
  {
   "cell_type": "code",
   "execution_count": 34,
   "metadata": {},
   "outputs": [],
   "source": [
    "happy2012 = df[df.year ==6][['cntry','happy']].groupby('cntry').mean()\n",
    "happy2014 = df[df.year ==7][['cntry','happy']].groupby('cntry').mean()"
   ]
  },
  {
   "cell_type": "code",
   "execution_count": 35,
   "metadata": {},
   "outputs": [
    {
     "name": "stdout",
     "output_type": "stream",
     "text": [
      "          happy\n",
      "cntry          \n",
      "CH     8.083333\n",
      "CZ     6.790349\n",
      "DE     7.307692\n",
      "ES     7.557858\n",
      "NO     8.252825\n",
      "SE     7.901048\n"
     ]
    }
   ],
   "source": [
    "print(happy2012)"
   ]
  },
  {
   "cell_type": "code",
   "execution_count": 37,
   "metadata": {},
   "outputs": [
    {
     "name": "stdout",
     "output_type": "stream",
     "text": [
      "          happy\n",
      "cntry          \n",
      "CH     8.142665\n",
      "CZ     6.922442\n",
      "DE     7.857143\n",
      "ES     7.450617\n",
      "NO     7.919944\n",
      "SE     7.938870\n"
     ]
    }
   ],
   "source": [
    "print(happy2014)"
   ]
  },
  {
   "cell_type": "markdown",
   "metadata": {},
   "source": [
    "Overall people became happier in all the countries surveyed."
   ]
  },
  {
   "cell_type": "code",
   "execution_count": 33,
   "metadata": {},
   "outputs": [
    {
     "name": "stdout",
     "output_type": "stream",
     "text": [
      "Ttest_indResult(statistic=-0.81214248832740099, pvalue=0.41684110117700179)\n",
      "Ttest_indResult(statistic=-1.1592536826704618, pvalue=0.24658245820500238)\n",
      "Ttest_indResult(statistic=-0.96631754122855895, pvalue=0.34314091287270732)\n",
      "Ttest_indResult(statistic=1.3750588408504656, pvalue=0.16924771370417369)\n",
      "Ttest_indResult(statistic=4.1529572059972661, pvalue=3.4778681704487346e-05)\n",
      "Ttest_indResult(statistic=-0.53727902103263936, pvalue=0.59114423062723875)\n"
     ]
    }
   ],
   "source": [
    "for country in df.cntry.unique():\n",
    "    country_data = df[df.cntry == country]\n",
    "    print(stats.ttest_ind(country_data[country_data.year == 6].happy,\n",
    "                          country_data[country_data.year == 7].happy))"
   ]
  },
  {
   "cell_type": "code",
   "execution_count": null,
   "metadata": {},
   "outputs": [],
   "source": []
  },
  {
   "cell_type": "markdown",
   "metadata": {},
   "source": [
    "Who reported watching more TV in 2012, men or women?"
   ]
  },
  {
   "cell_type": "code",
   "execution_count": 46,
   "metadata": {},
   "outputs": [],
   "source": [
    "male = df.loc[(df['gndr'] == 1) & (df['year'] == 6), 'tvtot']\n",
    "female = df.loc[(df['gndr'] == 2) & (df['year'] == 6), 'tvtot']"
   ]
  },
  {
   "cell_type": "code",
   "execution_count": 47,
   "metadata": {},
   "outputs": [],
   "source": [
    "male = male.dropna(axis=0)\n",
    "female = female.dropna(axis=0)"
   ]
  },
  {
   "cell_type": "code",
   "execution_count": 48,
   "metadata": {},
   "outputs": [
    {
     "data": {
      "text/plain": [
       "3.8592303945445687"
      ]
     },
     "execution_count": 48,
     "metadata": {},
     "output_type": "execute_result"
    }
   ],
   "source": [
    "male.mean()"
   ]
  },
  {
   "cell_type": "code",
   "execution_count": 49,
   "metadata": {},
   "outputs": [
    {
     "data": {
      "text/plain": [
       "3.9053518334985133"
      ]
     },
     "execution_count": 49,
     "metadata": {},
     "output_type": "execute_result"
    }
   ],
   "source": [
    "female.mean()"
   ]
  },
  {
   "cell_type": "code",
   "execution_count": 50,
   "metadata": {},
   "outputs": [
    {
     "data": {
      "text/plain": [
       "Ttest_indResult(statistic=-0.73235521926405578, pvalue=0.46399396461101539)"
      ]
     },
     "execution_count": 50,
     "metadata": {},
     "output_type": "execute_result"
    }
   ],
   "source": [
    "stats.ttest_ind(male, female)"
   ]
  },
  {
   "cell_type": "markdown",
   "metadata": {},
   "source": [
    "Females reported watching more TV in 2012 than men."
   ]
  },
  {
   "cell_type": "markdown",
   "metadata": {},
   "source": [
    "Who was more likely to believe people were fair in 2012, people living with a partner or people living alone?"
   ]
  },
  {
   "cell_type": "code",
   "execution_count": 40,
   "metadata": {},
   "outputs": [],
   "source": [
    "partner = df.loc[(df['partner'] == 1) & (df['year'] == 6), 'pplfair']\n",
    "alone = df.loc[(df['partner'] == 2) & (df['year'] == 6), 'pplfair']"
   ]
  },
  {
   "cell_type": "code",
   "execution_count": 42,
   "metadata": {},
   "outputs": [
    {
     "data": {
      "text/plain": [
       "6.0743509047993705"
      ]
     },
     "execution_count": 42,
     "metadata": {},
     "output_type": "execute_result"
    }
   ],
   "source": [
    "partner.mean()"
   ]
  },
  {
   "cell_type": "code",
   "execution_count": 43,
   "metadata": {},
   "outputs": [
    {
     "data": {
      "text/plain": [
       "5.8659254414650102"
      ]
     },
     "execution_count": 43,
     "metadata": {},
     "output_type": "execute_result"
    }
   ],
   "source": [
    "alone.mean()"
   ]
  },
  {
   "cell_type": "code",
   "execution_count": 44,
   "metadata": {},
   "outputs": [
    {
     "data": {
      "text/plain": [
       "Ttest_indResult(statistic=3.0430439318464235, pvalue=0.0023569366769392482)"
      ]
     },
     "execution_count": 44,
     "metadata": {},
     "output_type": "execute_result"
    }
   ],
   "source": [
    "stats.ttest_ind(partner, alone)"
   ]
  },
  {
   "cell_type": "markdown",
   "metadata": {},
   "source": [
    "Pick three or four of the countries in the sample and compare how often people met socially in 2014. Are there differences, and if so, which countries stand out?"
   ]
  },
  {
   "cell_type": "code",
   "execution_count": 376,
   "metadata": {},
   "outputs": [],
   "source": [
    "social = pd.DataFrame()"
   ]
  },
  {
   "cell_type": "code",
   "execution_count": 377,
   "metadata": {},
   "outputs": [],
   "source": [
    "CH = df.loc[(df['cntry'] == 'CH') & (df['year'] == 7), 'sclmeet']\n",
    "SE = df.loc[(df['cntry'] == 'SE') & (df['year'] == 7), 'sclmeet']\n",
    "NO = df.loc[(df['cntry'] == 'NO') & (df['year'] == 7), 'sclmeet']"
   ]
  },
  {
   "cell_type": "code",
   "execution_count": 378,
   "metadata": {},
   "outputs": [],
   "source": [
    "temp_CH = CH.append(pd.Series(np.repeat(-1, 136)))\n",
    "temp_CH = temp_CH.reset_index(drop=True)\n",
    "temp_NO = NO.append(pd.Series(np.repeat(-1, 177)))\n",
    "temp_NO = temp_NO.reset_index(drop=True)\n",
    "SE = SE.reset_index(drop=True)"
   ]
  },
  {
   "cell_type": "code",
   "execution_count": 379,
   "metadata": {},
   "outputs": [],
   "source": [
    "social['CH'] = temp_CH\n",
    "social['SE'] = SE\n",
    "social['NO'] = temp_NO"
   ]
  },
  {
   "cell_type": "code",
   "execution_count": 449,
   "metadata": {},
   "outputs": [
    {
     "data": {
      "text/html": [
       "<div>\n",
       "<style scoped>\n",
       "    .dataframe tbody tr th:only-of-type {\n",
       "        vertical-align: middle;\n",
       "    }\n",
       "\n",
       "    .dataframe tbody tr th {\n",
       "        vertical-align: top;\n",
       "    }\n",
       "\n",
       "    .dataframe thead th {\n",
       "        text-align: right;\n",
       "    }\n",
       "</style>\n",
       "<table border=\"1\" class=\"dataframe\">\n",
       "  <thead>\n",
       "    <tr style=\"text-align: right;\">\n",
       "      <th></th>\n",
       "      <th>CH</th>\n",
       "      <th>SE</th>\n",
       "      <th>NO</th>\n",
       "    </tr>\n",
       "  </thead>\n",
       "  <tbody>\n",
       "    <tr>\n",
       "      <th>count</th>\n",
       "      <td>908.000000</td>\n",
       "      <td>908.000000</td>\n",
       "      <td>908.000000</td>\n",
       "    </tr>\n",
       "    <tr>\n",
       "      <th>mean</th>\n",
       "      <td>4.237885</td>\n",
       "      <td>5.426211</td>\n",
       "      <td>4.073789</td>\n",
       "    </tr>\n",
       "    <tr>\n",
       "      <th>std</th>\n",
       "      <td>2.508776</td>\n",
       "      <td>1.373098</td>\n",
       "      <td>2.775316</td>\n",
       "    </tr>\n",
       "    <tr>\n",
       "      <th>min</th>\n",
       "      <td>-1.000000</td>\n",
       "      <td>2.000000</td>\n",
       "      <td>-1.000000</td>\n",
       "    </tr>\n",
       "    <tr>\n",
       "      <th>25%</th>\n",
       "      <td>4.000000</td>\n",
       "      <td>4.000000</td>\n",
       "      <td>3.000000</td>\n",
       "    </tr>\n",
       "    <tr>\n",
       "      <th>50%</th>\n",
       "      <td>5.000000</td>\n",
       "      <td>6.000000</td>\n",
       "      <td>5.000000</td>\n",
       "    </tr>\n",
       "    <tr>\n",
       "      <th>75%</th>\n",
       "      <td>6.000000</td>\n",
       "      <td>7.000000</td>\n",
       "      <td>6.000000</td>\n",
       "    </tr>\n",
       "    <tr>\n",
       "      <th>max</th>\n",
       "      <td>7.000000</td>\n",
       "      <td>7.000000</td>\n",
       "      <td>7.000000</td>\n",
       "    </tr>\n",
       "  </tbody>\n",
       "</table>\n",
       "</div>"
      ],
      "text/plain": [
       "               CH          SE          NO\n",
       "count  908.000000  908.000000  908.000000\n",
       "mean     4.237885    5.426211    4.073789\n",
       "std      2.508776    1.373098    2.775316\n",
       "min     -1.000000    2.000000   -1.000000\n",
       "25%      4.000000    4.000000    3.000000\n",
       "50%      5.000000    6.000000    5.000000\n",
       "75%      6.000000    7.000000    6.000000\n",
       "max      7.000000    7.000000    7.000000"
      ]
     },
     "execution_count": 449,
     "metadata": {},
     "output_type": "execute_result"
    }
   ],
   "source": [
    "social.describe()\n",
    "#On average, people in CH met 4.2x, SE met 5.4x and NO met 4x socially in 2014."
   ]
  },
  {
   "cell_type": "code",
   "execution_count": 380,
   "metadata": {},
   "outputs": [
    {
     "data": {
      "image/png": "[encoded data removed]",
      "text/plain": [
       "<matplotlib.figure.Figure at 0x113d6a4a8>"
      ]
     },
     "metadata": {},
     "output_type": "display_data"
    }
   ],
   "source": [
    "social.hist(sharey=True, sharex=True)\n",
    "plt.show()"
   ]
  },
  {
   "cell_type": "code",
   "execution_count": 365,
   "metadata": {},
   "outputs": [],
   "source": [
    "social = social.replace(-1, np.NaN)\n",
    "social = social[:731]"
   ]
  },
  {
   "cell_type": "code",
   "execution_count": 366,
   "metadata": {},
   "outputs": [],
   "source": [
    "ranks = stats.rankdata(social['CH'].tolist() + \n",
    "                     social['SE'].tolist() + \n",
    "                     social['NO'].tolist())\n",
    "\n",
    "#Add the new ranked variables to the data frame.\n",
    "social['Ranks_CH'] = ranks[0:731]\n",
    "social['Ranks_SE'] = ranks[731:1462]\n",
    "social['Ranks_NO'] = ranks[1462:2193]"
   ]
  },
  {
   "cell_type": "code",
   "execution_count": 367,
   "metadata": {},
   "outputs": [
    {
     "name": "stdout",
     "output_type": "stream",
     "text": [
      "Ranks_CH    1049.682627\n",
      "Ranks_SE    1129.196990\n",
      "Ranks_NO    1112.120383\n",
      "dtype: float64\n",
      "1097.0\n"
     ]
    }
   ],
   "source": [
    "#Determine the average rank per group\n",
    "groups = ['Ranks_CH', 'Ranks_SE', 'Ranks_NO']\n",
    "print(social[groups].apply(np.mean))\n",
    "\n",
    "print(np.mean(ranks))"
   ]
  },
  {
   "cell_type": "code",
   "execution_count": 368,
   "metadata": {},
   "outputs": [],
   "source": [
    "social = social.dropna(axis=0)"
   ]
  },
  {
   "cell_type": "code",
   "execution_count": 335,
   "metadata": {
    "scrolled": true
   },
   "outputs": [
    {
     "data": {
      "text/plain": [
       "KruskalResult(statistic=6.9933571326978505, pvalue=0.030297848779941114)"
      ]
     },
     "execution_count": 335,
     "metadata": {},
     "output_type": "execute_result"
    }
   ],
   "source": [
    "#Data does not look normally distributed. Could use Kruskal test.\n",
    "#Print the test stat followed by probability of getting the result if groups were not different.\n",
    "stats.kruskal(\n",
    "    social['CH'], \n",
    "    social['SE'], \n",
    "    social['NO'])"
   ]
  },
  {
   "cell_type": "markdown",
   "metadata": {},
   "source": [
    "SE differs the most within the group.\n",
    "With p value <5%, there's evidence against the null hypothesis. Based on the data, how often they meet seem to differ across the countries."
   ]
  },
  {
   "cell_type": "markdown",
   "metadata": {},
   "source": []
  },
  {
   "cell_type": "markdown",
   "metadata": {},
   "source": [
    "Pick three or four of the countries in the sample and compare how often people took part in social activities, relative to others their age, in 2014. Are there differences, and if so, which countries stand out?"
   ]
  },
  {
   "cell_type": "code",
   "execution_count": 398,
   "metadata": {},
   "outputs": [],
   "source": [
    "social_activities = pd.DataFrame()"
   ]
  },
  {
   "cell_type": "code",
   "execution_count": 399,
   "metadata": {},
   "outputs": [],
   "source": [
    "CH_SA = df.loc[(df['cntry'] == 'CH') & (df['year'] == 7), 'sclact']\n",
    "SE_SA = df.loc[(df['cntry'] == 'SE') & (df['year'] == 7), 'sclact']\n",
    "NO_SA = df.loc[(df['cntry'] == 'NO') & (df['year'] == 7), 'sclact']"
   ]
  },
  {
   "cell_type": "code",
   "execution_count": 400,
   "metadata": {},
   "outputs": [],
   "source": [
    "temp_CH_SA = CH_SA.append(pd.Series(np.repeat(-1, 136)))\n",
    "temp_CH_SA = temp_CH_SA.reset_index(drop=True)\n",
    "temp_NO_SA = NO_SA.append(pd.Series(np.repeat(-1, 177)))\n",
    "temp_NO_SA = temp_NO_SA.reset_index(drop=True)\n",
    "SE_SA = SE_SA.reset_index(drop=True)"
   ]
  },
  {
   "cell_type": "code",
   "execution_count": 401,
   "metadata": {},
   "outputs": [],
   "source": [
    "social_activities['CH'] = temp_CH_SA\n",
    "social_activities['SE'] = SE_SA\n",
    "social_activities['NO'] = temp_NO_SA"
   ]
  },
  {
   "cell_type": "code",
   "execution_count": 402,
   "metadata": {},
   "outputs": [
    {
     "data": {
      "image/png": "[encoded data removed]",
      "text/plain": [
       "<matplotlib.figure.Figure at 0x105a61be0>"
      ]
     },
     "metadata": {},
     "output_type": "display_data"
    }
   ],
   "source": [
    "social_activities.hist(sharey=True, sharex=True)\n",
    "plt.show()"
   ]
  },
  {
   "cell_type": "code",
   "execution_count": 404,
   "metadata": {},
   "outputs": [],
   "source": [
    "social_activities = social_activities.replace(-1, np.NaN)\n",
    "social_activities = social_activities[:901]"
   ]
  },
  {
   "cell_type": "code",
   "execution_count": 405,
   "metadata": {},
   "outputs": [],
   "source": [
    "social_activities = social_activities.dropna(axis=0)"
   ]
  },
  {
   "cell_type": "code",
   "execution_count": 414,
   "metadata": {},
   "outputs": [
    {
     "data": {
      "text/html": [
       "<table class=\"simpletable\">\n",
       "<caption>Multiple Comparison of Means - Tukey HSD,FWER=0.05</caption>\n",
       "<tr>\n",
       "  <th>group1</th> <th>group2</th> <th>meandiff</th>  <th>lower</th>   <th>upper</th> <th>reject</th>\n",
       "</tr>\n",
       "<tr>\n",
       "    <td>CH</td>     <td>NO</td>    <td>0.0904</td>  <td>-0.0176</td> <td>0.1984</td>  <td>False</td>\n",
       "</tr>\n",
       "<tr>\n",
       "    <td>CH</td>     <td>SE</td>    <td>0.1057</td>  <td>-0.0023</td> <td>0.2137</td>  <td>False</td>\n",
       "</tr>\n",
       "<tr>\n",
       "    <td>NO</td>     <td>SE</td>    <td>0.0153</td>  <td>-0.0927</td> <td>0.1233</td>  <td>False</td>\n",
       "</tr>\n",
       "</table>"
      ],
      "text/plain": [
       "<class 'statsmodels.iolib.table.SimpleTable'>"
      ]
     },
     "execution_count": 414,
     "metadata": {},
     "output_type": "execute_result"
    }
   ],
   "source": [
    "from statsmodels.stats.multicomp import pairwise_tukeyhsd\n",
    "\n",
    "socially=np.asarray(\n",
    "    social_activities['CH'].tolist() +\n",
    "    social_activities['SE'].tolist() +\n",
    "    social_activities['NO'].tolist())\n",
    "\n",
    "social_activities_temp = np.array(['CH','SE','NO'])\n",
    "social_activities_temp = np.repeat(social_activities_temp, 719)\n",
    "\n",
    "tukey = pairwise_tukeyhsd(endog=socially,                   # Data\n",
    "                          groups=social_activities_temp,   # Groups\n",
    "                          alpha=0.05)                     # Significance level\n",
    "\n",
    "tukey.summary()  "
   ]
  },
  {
   "cell_type": "markdown",
   "metadata": {},
   "source": [
    "Seems there is insufficient evidence to prove that the countries are significantly different in terms of how often they took part in social activities."
   ]
  }
 ],
 "metadata": {
  "kernelspec": {
   "display_name": "Python 3",
   "language": "python",
   "name": "python3"
  },
  "language_info": {
   "codemirror_mode": {
    "name": "ipython",
    "version": 3
   },
   "file_extension": ".py",
   "mimetype": "text/x-python",
   "name": "python",
   "nbconvert_exporter": "python",
   "pygments_lexer": "ipython3",
   "version": "3.6.3"
  }
 },
 "nbformat": 4,
 "nbformat_minor": 2
}
